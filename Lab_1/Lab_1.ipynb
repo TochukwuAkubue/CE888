{
  "nbformat": 4,
  "nbformat_minor": 0,
  "metadata": {
    "colab": {
      "name": "Lab_1.ipynb",
      "provenance": [],
      "collapsed_sections": [],
      "include_colab_link": true
    },
    "kernelspec": {
      "name": "python3",
      "display_name": "Python 3"
    }
  },
  "cells": [
    {
      "cell_type": "markdown",
      "metadata": {
        "id": "view-in-github",
        "colab_type": "text"
      },
      "source": [
        "<a href=\"https://colab.research.google.com/github/TochukwuAkubue/CE888/blob/Lab1/Lab_1/Lab_1.ipynb\" target=\"_parent\"><img src=\"https://colab.research.google.com/assets/colab-badge.svg\" alt=\"Open In Colab\"/></a>"
      ]
    },
    {
      "cell_type": "markdown",
      "metadata": {
        "id": "u9rBYuqkfFZi"
      },
      "source": [
        "## Introduction to Numerical Computing with Numpy and Matplotlib\n",
        "\n",
        "### What is Matplotlib\n",
        "\n",
        "Matplotlib is a Python 2D plotting library which produces publication quality figures in a variety of hardcopy formats and interactive environments across platforms. Matplotlib can be used in Python scripts, the Python and IPython shells, the Jupyter notebook, web application servers, and four graphical user interface toolkits. Matplotlib tries to make easy things easy and hard things possible. You can generate plots, histograms, power spectra, bar charts, errorcharts, scatterplots, etc., with just a few lines of code.\n",
        "![Ref: Javatpoint ](https://static.javatpoint.com/tutorial/matplotlib/images/matplotlib-data-visualization2.png)\n",
        "For more infomration: [Matplotlib Webpage](https://matplotlib.org/)\n",
        "\n",
        "#### Malplotlib Object Model\n",
        "\n",
        "![alt text](https://matplotlib.org/_images/anatomy1.png)"
      ]
    },
    {
      "cell_type": "markdown",
      "metadata": {
        "id": "Q2EQMEEphhQv"
      },
      "source": [
        "#### Matplotlib State's Machine\n",
        "Matplotlib behaves like a state machine. Any command is applied to the current plotting area. "
      ]
    },
    {
      "cell_type": "code",
      "metadata": {
        "id": "OECaZLqAe07m"
      },
      "source": [
        "import matplotlib.pyplot as plt\n",
        "import numpy as np\n",
        "\n",
        "t = np.linspace(0, 2*np.pi, 50)     # This create 50 values from 0 to 6.284 (2*pi) inclusive having an evenly spaced interval\n",
        "x = np.sin(t)\n",
        "y = np.cos(t)"
      ],
      "execution_count": 11,
      "outputs": []
    },
    {
      "cell_type": "code",
      "metadata": {
        "id": "eo8NGcByiCrg",
        "colab": {
          "base_uri": "https://localhost:8080/",
          "height": 299
        },
        "outputId": "9d969324-c54b-41e7-ab16-5046a11e24fe"
      },
      "source": [
        "# Now create a figure\n",
        "plt.figure()\n",
        "# and plot x inside it\n",
        "plt.plot(x)\n",
        "# Add a title\n",
        "plt.title(\"Sine\")"
      ],
      "execution_count": 13,
      "outputs": [
        {
          "output_type": "execute_result",
          "data": {
            "text/plain": [
              "Text(0.5, 1.0, 'Sine')"
            ]
          },
          "metadata": {
            "tags": []
          },
          "execution_count": 13
        },
        {
          "output_type": "display_data",
          "data": {
            "image/png": "[encoded data removed]",
            "text/plain": [
              "<Figure size 432x288 with 1 Axes>"
            ]
          },
          "metadata": {
            "tags": [],
            "needs_background": "light"
          }
        }
      ]
    },
    {
      "cell_type": "code",
      "metadata": {
        "id": "_zB4dMJLiNaw",
        "colab": {
          "base_uri": "https://localhost:8080/",
          "height": 299
        },
        "outputId": "6ad075b1-4e0e-44ad-d66d-d59d4919cb97"
      },
      "source": [
        "# Now create a new figure\n",
        "plt.figure()\n",
        "# and plot y inside it...\n",
        "plt.plot(y)\n",
        "# Add a title\n",
        "plt.title(\"Cos\")"
      ],
      "execution_count": 14,
      "outputs": [
        {
          "output_type": "execute_result",
          "data": {
            "text/plain": [
              "Text(0.5, 1.0, 'Cos')"
            ]
          },
          "metadata": {
            "tags": []
          },
          "execution_count": 14
        },
        {
          "output_type": "display_data",
          "data": {
            "image/png": "[encoded data removed]",
            "text/plain": [
              "<Figure size 432x288 with 1 Axes>"
            ]
          },
          "metadata": {
            "tags": [],
            "needs_background": "light"
          }
        }
      ]
    },
    {
      "cell_type": "markdown",
      "metadata": {
        "id": "EIqiAerCilvv"
      },
      "source": [
        "### Line Plot"
      ]
    },
    {
      "cell_type": "code",
      "metadata": {
        "id": "Ufz8Q830ijqy",
        "colab": {
          "base_uri": "https://localhost:8080/",
          "height": 283
        },
        "outputId": "e839b954-d3cc-4f23-db25-096b4e83d56d"
      },
      "source": [
        "x = np.linspace(0, 2*np.pi, 50)\n",
        "y1 = np.sin(x)\n",
        "y2 = np.sin(2*x)\n",
        "plt.figure() # Create figure\n",
        "plt.plot(y1)\n",
        "plt.plot(x, y1)\n",
        "\n",
        "# red dot-dash circle\n",
        "plt.plot(x, y1, 'r')    # means plot x against y1 using a red colored line ('r')\n",
        "\n",
        "# red marker only circle\n",
        "plt.plot(x, y1, 'r-o')   # means plot x against y1 using a red colored circles ('r-o')\n",
        "\n",
        "# clear figure then plot 2 curves\n",
        "plt.clf()                               # clear the graph of previous plots so that only the plots from the codes below will be printed on the graph\n",
        "plt.plot(x, y1, 'g-o', x, y2, 'b-+')    # means plot x against y1 using a green colored circles ('g-o'), while also plotting x against y2 using blue colored + (b-+)\n",
        "plt.legend(['sin(x)','sin(2x)'])        # This prints out the legend description\n",
        "\n",
        "\n"
      ],
      "execution_count": 29,
      "outputs": [
        {
          "output_type": "execute_result",
          "data": {
            "text/plain": [
              "<matplotlib.legend.Legend at 0x7fa5866c40f0>"
            ]
          },
          "metadata": {
            "tags": []
          },
          "execution_count": 29
        },
        {
          "output_type": "display_data",
          "data": {
            "image/png": "[encoded data removed]",
            "text/plain": [
              "<Figure size 432x288 with 1 Axes>"
            ]
          },
          "metadata": {
            "tags": [],
            "needs_background": "light"
          }
        }
      ]
    },
    {
      "cell_type": "markdown",
      "metadata": {
        "id": "tEqnyiLnj-oX"
      },
      "source": [
        "### Scatter Plot \n"
      ]
    },
    {
      "cell_type": "code",
      "metadata": {
        "id": "E4545t4pj8mo",
        "colab": {
          "base_uri": "https://localhost:8080/",
          "height": 299
        },
        "outputId": "788f738e-90bc-48d3-f94a-6e3be1b4850c"
      },
      "source": [
        "N = 50 # no. of points\n",
        "x = np.linspace(0, 10, N)       # This creates 50 values (N=50) from 0 to 10 inclusive having an evenly spaced interval\n",
        "#print(x)\n",
        "from numpy.random import rand\n",
        "e = rand(N)*5.0 # noise\n",
        "y1 = x + e\n",
        "areas = rand(N)*300\n",
        "plt.scatter(x, y1, s=areas)               # plot a scatter diagram of x against y1 over a random area between 300 & 15000\n",
        "colors = rand(N)\n",
        "plt.scatter(x, y1, s=areas,c=colors)     # plot a scatter diagram of x against y1 using random colors over a random area between 300 & 15000\n",
        "plt.colorbar()                            # print a color bar to explain the coloration like a legend\n",
        "plt.title(\"Random scatter\")              # Give the graph a title\n"
      ],
      "execution_count": 37,
      "outputs": [
        {
          "output_type": "execute_result",
          "data": {
            "text/plain": [
              "Text(0.5, 1.0, 'Random scatter')"
            ]
          },
          "metadata": {
            "tags": []
          },
          "execution_count": 37
        },
        {
          "output_type": "display_data",
          "data": {
            "image/png": "[encoded data removed]",
            "text/plain": [
              "<Figure size 432x288 with 2 Axes>"
            ]
          },
          "metadata": {
            "tags": [],
            "needs_background": "light"
          }
        }
      ]
    },
    {
      "cell_type": "markdown",
      "metadata": {
        "id": "eYKeyHYglP_r"
      },
      "source": [
        "### Image Plot: Correlation Plot"
      ]
    },
    {
      "cell_type": "code",
      "metadata": {
        "id": "7mhFfKMOlYb0",
        "colab": {
          "base_uri": "https://localhost:8080/",
          "height": 361
        },
        "outputId": "89237ff3-3c5d-451a-bc5d-ac7cf6756dd2"
      },
      "source": [
        "# Create some data\n",
        "e1 = rand(100)          # create 100 random numbers between 0 and 1, with 1 exclusive & then assign it to array e1\n",
        "e2 = rand(100)*2         # create 100 random numbers between 0 and 1, with 1 exclusive, multily each number by 2 & then assign it to array e2\n",
        "e3 = rand(100)*50          # create 100 random numbers between 0 and 1, with 1 exclusive, multily each number by 50 & then assign it to array e3\n",
        "e4 = rand(100)*100           # create 100 random numbers between 0 and 1, with 1 exclusive, multily each number by 100 & then assign it to array e4\n",
        "corrmatrix = np.corrcoef([e1, e2, e3, e4])      # create a 4*4 correlation matrix\n",
        "print(corrmatrix)\n",
        "#Plot corr matrix as image\n",
        "plt.imshow(corrmatrix, cmap='GnBu')       # Use the plt.imshow() method to plot the correlation matrix using a GnBu color map\n",
        "plt.colorbar()"
      ],
      "execution_count": 45,
      "outputs": [
        {
          "output_type": "stream",
          "text": [
            "[[ 1.          0.00144537  0.06998745 -0.12665606]\n",
            " [ 0.00144537  1.          0.02948789 -0.05166737]\n",
            " [ 0.06998745  0.02948789  1.          0.04476991]\n",
            " [-0.12665606 -0.05166737  0.04476991  1.        ]]\n"
          ],
          "name": "stdout"
        },
        {
          "output_type": "execute_result",
          "data": {
            "text/plain": [
              "<matplotlib.colorbar.Colorbar at 0x7fa57d85ca90>"
            ]
          },
          "metadata": {
            "tags": []
          },
          "execution_count": 45
        },
        {
          "output_type": "display_data",
          "data": {
            "image/png": "[encoded data removed]",
            "text/plain": [
              "<Figure size 432x288 with 2 Axes>"
            ]
          },
          "metadata": {
            "tags": [],
            "needs_background": "light"
          }
        }
      ]
    },
    {
      "cell_type": "markdown",
      "metadata": {
        "id": "dRmo6yZWmkt_"
      },
      "source": [
        "### Multiple plots using subplot"
      ]
    },
    {
      "cell_type": "code",
      "metadata": {
        "id": "Ahcz1LKUmvPr",
        "colab": {
          "base_uri": "https://localhost:8080/",
          "height": 283
        },
        "outputId": "019f552b-8fbc-464c-a05a-01a1dcd9028c"
      },
      "source": [
        "t = np.linspace(0, 2*np.pi)\n",
        "x = np.sin(t)\n",
        "y = np.cos(t)\n",
        "# To divide the plotting area\n",
        "plt.subplot(2, 1, 1)\n",
        "plt.plot(x)\n",
        "# Now activate a new plot area.\n",
        "plt.subplot(2, 1, 2)\n",
        "plt.plot(y)"
      ],
      "execution_count": 48,
      "outputs": [
        {
          "output_type": "execute_result",
          "data": {
            "text/plain": [
              "[<matplotlib.lines.Line2D at 0x7fa57d6cc438>]"
            ]
          },
          "metadata": {
            "tags": []
          },
          "execution_count": 48
        },
        {
          "output_type": "display_data",
          "data": {
            "image/png": "[encoded data removed]",
            "text/plain": [
              "<Figure size 432x288 with 2 Axes>"
            ]
          },
          "metadata": {
            "tags": [],
            "needs_background": "light"
          }
        }
      ]
    },
    {
      "cell_type": "markdown",
      "metadata": {
        "id": "36ev2RH0nMe2"
      },
      "source": [
        "### Histogram plot"
      ]
    },
    {
      "cell_type": "code",
      "metadata": {
        "id": "lWJfHc4hnK9r",
        "colab": {
          "base_uri": "https://localhost:8080/",
          "height": 357
        },
        "outputId": "67837823-2195-4a96-e2cd-9a64accd48b4"
      },
      "source": [
        "# Create array of data\n",
        "from numpy.random import randint\n",
        "data = randint(10000, size=(10,1000))\n",
        "# Approx norm distribution\n",
        "x = np.sum(data, axis=0)\n",
        "# Set up for stacked plots\n",
        "plt.subplot(2,1,1)\n",
        "plt.hist(x, color='r')\n",
        "# Plot cumulative dist\n",
        "plt.subplot(2,1,2)\n",
        "plt.hist(x, cumulative=True, color='g')"
      ],
      "execution_count": 49,
      "outputs": [
        {
          "output_type": "execute_result",
          "data": {
            "text/plain": [
              "(array([   6.,   30.,  115.,  264.,  475.,  685.,  866.,  957.,  993.,\n",
              "        1000.]),\n",
              " array([22118. , 27639.1, 33160.2, 38681.3, 44202.4, 49723.5, 55244.6,\n",
              "        60765.7, 66286.8, 71807.9, 77329. ]),\n",
              " <a list of 10 Patch objects>)"
            ]
          },
          "metadata": {
            "tags": []
          },
          "execution_count": 49
        },
        {
          "output_type": "display_data",
          "data": {
            "image/png": "[encoded data removed]",
            "text/plain": [
              "<Figure size 432x288 with 2 Axes>"
            ]
          },
          "metadata": {
            "tags": [],
            "needs_background": "light"
          }
        }
      ]
    },
    {
      "cell_type": "markdown",
      "metadata": {
        "id": "He7rHWDrn3GO"
      },
      "source": [
        "### Legend, Title, and Label Axis"
      ]
    },
    {
      "cell_type": "code",
      "metadata": {
        "id": "Nnn50-1Ln9ef",
        "colab": {
          "base_uri": "https://localhost:8080/",
          "height": 282
        },
        "outputId": "6f76d81c-6b38-4482-ef90-19a373dc8fed"
      },
      "source": [
        "# Add labels in plot command.\n",
        "plt.plot(np.sin(t), label='sin')\n",
        "plt.plot(np.cos(t), label='cos')\n",
        "plt.legend()"
      ],
      "execution_count": null,
      "outputs": [
        {
          "output_type": "execute_result",
          "data": {
            "text/plain": [
              "<matplotlib.legend.Legend at 0x7f21a89e09b0>"
            ]
          },
          "metadata": {
            "tags": []
          },
          "execution_count": 26
        },
        {
          "output_type": "display_data",
          "data": {
            "image/png": "[encoded data removed]",
            "text/plain": [
              "<Figure size 432x288 with 1 Axes>"
            ]
          },
          "metadata": {
            "tags": []
          }
        }
      ]
    },
    {
      "cell_type": "code",
      "metadata": {
        "id": "o2QXAZ4zoI9p",
        "colab": {
          "base_uri": "https://localhost:8080/",
          "height": 313
        },
        "outputId": "a53a83d4-f013-438d-8b88-23c8cace81b2"
      },
      "source": [
        "plt.plot(t, np.sin(t))\n",
        "plt.xlabel('radians')\n",
        "# Keywords set text properties.\n",
        "plt.ylabel('amplitude',fontsize='large', color='g')\n",
        "plt.title('Sin(x)')"
      ],
      "execution_count": 50,
      "outputs": [
        {
          "output_type": "execute_result",
          "data": {
            "text/plain": [
              "Text(0.5, 1.0, 'Sin(x)')"
            ]
          },
          "metadata": {
            "tags": []
          },
          "execution_count": 50
        },
        {
          "output_type": "display_data",
          "data": {
            "image/png": "[encoded data removed]",
            "text/plain": [
              "<Figure size 432x288 with 1 Axes>"
            ]
          },
          "metadata": {
            "tags": [],
            "needs_background": "light"
          }
        }
      ]
    },
    {
      "cell_type": "markdown",
      "metadata": {
        "id": "yRdzCbrVojNI"
      },
      "source": [
        "#### Other Visualization Libraries: \n",
        "\n",
        "**Seaborn**:  Better looking, high-level, plot-based on matplotlib [Seaborn](https://seaborn.pydata.org/)\n",
        "\n",
        "**Bokeh**: D3 like visulization in web browser [Bokeh](https://github.com/bokeh/bokeh)\n"
      ]
    },
    {
      "cell_type": "markdown",
      "metadata": {
        "id": "DZz7nrjeqBVb"
      },
      "source": [
        "## NumPy Array\n",
        "\n",
        "Numpy is the core library for scientific computing in Python. It provides a high-performance multidimensional array object, and tools for working with these arrays. A numpy array is a grid of values, all of the same type, and is indexed by a tuple of nonnegative integers. The number of dimensions is the rank of the array; the shape of an array is a tuple of integers giving the size of the array along each dimension.\n",
        "\n",
        "The Python core library provided Lists. A list is the Python equivalent of an array, but is resizeable and can contain elements of different types.\n",
        "\n",
        "**Why NumPy array**?\n",
        "\n",
        "Size - Numpy data structures take up less space\n",
        "Performance - they have a need for speed and are faster than lists\n",
        "Functionality - SciPy and NumPy have optimized functions such as linear algebra operations built in.\n",
        "\n",
        "\n",
        "#### Introducing NumPy Array\n",
        "\n",
        "\n"
      ]
    },
    {
      "cell_type": "code",
      "metadata": {
        "id": "APvlYZXzwdbC",
        "colab": {
          "base_uri": "https://localhost:8080/"
        },
        "outputId": "0ddc04f6-25c8-4919-f93d-19d4db27094c"
      },
      "source": [
        "import numpy as np\n",
        "\n",
        "# Simple array creation\n",
        "a = np.array([0, 1, 2, 3, 4, 5])\n",
        "print(a)"
      ],
      "execution_count": 53,
      "outputs": [
        {
          "output_type": "stream",
          "text": [
            "[0 1 2 3 4 5]\n"
          ],
          "name": "stdout"
        }
      ]
    },
    {
      "cell_type": "code",
      "metadata": {
        "id": "nNo9IyREwnDR",
        "colab": {
          "base_uri": "https://localhost:8080/",
          "height": 51
        },
        "outputId": "c8071bd8-acee-43d5-a0f6-6d48d61a3cba"
      },
      "source": [
        "# Checking the type and type of elements\n",
        "print(type(a))\n",
        "print(a.dtype)"
      ],
      "execution_count": null,
      "outputs": [
        {
          "output_type": "stream",
          "text": [
            "<class 'numpy.ndarray'>\n",
            "int64\n"
          ],
          "name": "stdout"
        }
      ]
    },
    {
      "cell_type": "code",
      "metadata": {
        "id": "V_uPUZC-xArO",
        "colab": {
          "base_uri": "https://localhost:8080/",
          "height": 51
        },
        "outputId": "f1f82279-cfa1-47f3-d185-63d67d1c32fa"
      },
      "source": [
        "# Check dimensions and shape\n",
        "print(a.ndim)\n",
        "print(a.shape)"
      ],
      "execution_count": null,
      "outputs": [
        {
          "output_type": "stream",
          "text": [
            "1\n",
            "(6,)\n"
          ],
          "name": "stdout"
        }
      ]
    },
    {
      "cell_type": "code",
      "metadata": {
        "id": "glOQteJPxL1q",
        "colab": {
          "base_uri": "https://localhost:8080/"
        },
        "outputId": "39b55f55-13d4-4ecd-952b-1e769fa1ac83"
      },
      "source": [
        "# Check Bytes per element and Bytes of memory use\n",
        "print(a.itemsize)\n",
        "print(a.nbytes)"
      ],
      "execution_count": 52,
      "outputs": [
        {
          "output_type": "stream",
          "text": [
            "8\n",
            "56\n"
          ],
          "name": "stdout"
        }
      ]
    },
    {
      "cell_type": "markdown",
      "metadata": {
        "id": "O7xzeIWdxy-9"
      },
      "source": [
        "#### Array Operations"
      ]
    },
    {
      "cell_type": "code",
      "metadata": {
        "id": "N_aWdYftx1iL",
        "colab": {
          "base_uri": "https://localhost:8080/"
        },
        "outputId": "c7a4a78d-1454-4144-e42b-20b3f7688865"
      },
      "source": [
        "a = np.array([1, 2, 3, 4])\n",
        "b = np.array([2, 3, 4, 5])\n",
        "\n",
        "print(a*b)\n",
        "print(a**b)\n",
        "print(a+b)\n",
        "print(a/b)"
      ],
      "execution_count": 54,
      "outputs": [
        {
          "output_type": "stream",
          "text": [
            "[ 2  6 12 20]\n",
            "[   1    8   81 1024]\n",
            "[3 5 7 9]\n",
            "[0.5        0.66666667 0.75       0.8       ]\n"
          ],
          "name": "stdout"
        }
      ]
    },
    {
      "cell_type": "code",
      "metadata": {
        "id": "_uA3AT0RyjPv",
        "colab": {
          "base_uri": "https://localhost:8080/",
          "height": 68
        },
        "outputId": "111beb24-085f-457d-a4fd-7785db02263d"
      },
      "source": [
        "# Setting array elements\n",
        "print(a[0])\n",
        "a[0] = 10\n",
        "print(a[0])\n",
        "print(a)"
      ],
      "execution_count": null,
      "outputs": [
        {
          "output_type": "stream",
          "text": [
            "10\n",
            "10\n",
            "[10  2  3  4]\n"
          ],
          "name": "stdout"
        }
      ]
    },
    {
      "cell_type": "code",
      "metadata": {
        "id": "a94VoeIny30D",
        "colab": {
          "base_uri": "https://localhost:8080/"
        },
        "outputId": "ccb4327a-fdf9-488f-8550-5df3649247ed"
      },
      "source": [
        "# Multi-dimensional array\n",
        "\n",
        "a = np.array([[ 0, 1, 2, 3],\n",
        "              [10,11,12,13]])\n",
        "print(a)"
      ],
      "execution_count": 56,
      "outputs": [
        {
          "output_type": "stream",
          "text": [
            "[[ 0  1  2  3]\n",
            " [10 11 12 13]]\n"
          ],
          "name": "stdout"
        }
      ]
    },
    {
      "cell_type": "code",
      "metadata": {
        "id": "lmCwIR1jy-1Q",
        "colab": {
          "base_uri": "https://localhost:8080/",
          "height": 68
        },
        "outputId": "93e915c7-0db4-4135-e62e-b540b3397dbc"
      },
      "source": [
        "print(a.shape)\n",
        "print(a.size)\n",
        "print(a.ndim)"
      ],
      "execution_count": null,
      "outputs": [
        {
          "output_type": "stream",
          "text": [
            "(2, 4)\n",
            "8\n",
            "2\n"
          ],
          "name": "stdout"
        }
      ]
    },
    {
      "cell_type": "code",
      "metadata": {
        "id": "a-xnWSjVzP0z",
        "colab": {
          "base_uri": "https://localhost:8080/",
          "height": 51
        },
        "outputId": "fafe6b6c-4f83-4150-a5e0-64c699c9adce"
      },
      "source": [
        "# Get and set elements in Multi-dimensional array\n",
        "print(a[1, 3])\n",
        "a[1, 3] = -1\n",
        "print(a[1, 3])"
      ],
      "execution_count": null,
      "outputs": [
        {
          "output_type": "stream",
          "text": [
            "13\n",
            "-1\n"
          ],
          "name": "stdout"
        }
      ]
    },
    {
      "cell_type": "code",
      "metadata": {
        "id": "ICn13beyzhLW",
        "colab": {
          "base_uri": "https://localhost:8080/",
          "height": 34
        },
        "outputId": "0375bf9d-4e3c-4c4d-c758-a2df6b332b38"
      },
      "source": [
        "print(a[1])"
      ],
      "execution_count": null,
      "outputs": [
        {
          "output_type": "stream",
          "text": [
            "[10 11 12 -1]\n"
          ],
          "name": "stdout"
        }
      ]
    },
    {
      "cell_type": "markdown",
      "metadata": {
        "id": "DMk5FPVD1CK0"
      },
      "source": [
        "#### Slicing array\n",
        "\n",
        "![Slicing array](https://scipy-lectures.org/_images/numpy_indexing.png)"
      ]
    },
    {
      "cell_type": "code",
      "metadata": {
        "id": "s_F3padj1Pcp",
        "colab": {
          "base_uri": "https://localhost:8080/"
        },
        "outputId": "0181170c-dc1e-48cd-eb8c-8d0435f60347"
      },
      "source": [
        "# Slicing array\n",
        "print(a)\n",
        "\n",
        "# print all row and 3rd column\n",
        "print(a[:,2])           # From array a, print the content of column 2 in all rows\n",
        "\n",
        "# print first row and all column \n",
        "print(a[0,:])         # From array a, go to row 0 and print everything \n",
        "\n",
        "# negative indices work also\n",
        "print(a)\n",
        "print(a[:,:-2])       # From array a, start from the beginning, select everything apart from the last 2 columns for both rows"
      ],
      "execution_count": 57,
      "outputs": [
        {
          "output_type": "stream",
          "text": [
            "[[ 0  1  2  3]\n",
            " [10 11 12 13]]\n",
            "[ 2 12]\n",
            "[0 1 2 3]\n",
            "[[ 0  1  2  3]\n",
            " [10 11 12 13]]\n",
            "[[ 0  1]\n",
            " [10 11]]\n"
          ],
          "name": "stdout"
        }
      ]
    }
  ]
}